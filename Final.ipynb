{
  "nbformat": 4,
  "nbformat_minor": 0,
  "metadata": {
    "colab": {
      "provenance": []
    },
    "kernelspec": {
      "name": "python3",
      "display_name": "Python 3"
    },
    "language_info": {
      "name": "python"
    }
  },
  "cells": [
    {
      "cell_type": "code",
      "execution_count": 1,
      "metadata": {
        "id": "OLVU_PLn4Nid"
      },
      "outputs": [],
      "source": [
        "import numpy as np\n",
        "import pandas as pd\n",
        "import re"
      ]
    },
    {
      "cell_type": "code",
      "source": [
        "df = pd.read_csv('train.csv')"
      ],
      "metadata": {
        "id": "O7PrsG7t4YEY"
      },
      "execution_count": 2,
      "outputs": []
    },
    {
      "cell_type": "code",
      "source": [
        "train = df.drop(['textID','text'],axis=1)"
      ],
      "metadata": {
        "id": "QHdL61KO439r"
      },
      "execution_count": 3,
      "outputs": []
    },
    {
      "cell_type": "code",
      "source": [
        "train.selected_text.fillna('No text',inplace=True)"
      ],
      "metadata": {
        "id": "fkeyH_6G44-z"
      },
      "execution_count": 4,
      "outputs": []
    },
    {
      "cell_type": "code",
      "source": [
        "def cleantext(text):\n",
        "    text = re.sub(r'@[A-Za-z0-9]+','', text) #remove mentions\n",
        "    text = re.sub(r'#','', text) #remove hash\n",
        "    text = re.sub(r'https?:\\/\\/\\S+', '', text) #remove hyperlink\n",
        "    text = re.sub('\\s+', ' ', text) #remove new line char\n",
        "    text = re.sub(\"\\'\", \"\", text) #remove single quotes\n",
        "    \n",
        "    return text"
      ],
      "metadata": {
        "id": "S5mOXZH047iq"
      },
      "execution_count": 5,
      "outputs": []
    },
    {
      "cell_type": "code",
      "source": [
        "train[\"selected_text\"] = train[\"selected_text\"].apply(cleantext)"
      ],
      "metadata": {
        "id": "jWSl-KDr4-1G"
      },
      "execution_count": 6,
      "outputs": []
    },
    {
      "cell_type": "code",
      "source": [
        "train[\"selected_text\"].head(15)"
      ],
      "metadata": {
        "colab": {
          "base_uri": "https://localhost:8080/"
        },
        "id": "MIcxvL9S5B_d",
        "outputId": "dbbb0e68-218a-45c9-db57-2da2cae6363b"
      },
      "execution_count": 7,
      "outputs": [
        {
          "output_type": "execute_result",
          "data": {
            "text/plain": [
              "0                   I`d have responded, if I were going\n",
              "1                                              Sooo SAD\n",
              "2                                           bullying me\n",
              "3                                        leave me alone\n",
              "4                                         Sons of ****,\n",
              "5      - some shameless plugging for the best Ranger...\n",
              "6                                                   fun\n",
              "7                                            Soooo high\n",
              "8                                           Both of you\n",
              "9                          Wow... u just became cooler.\n",
              "10    as much as i love to be hopeful, i reckon the ...\n",
              "11                                                 like\n",
              "12                                          DANGERously\n",
              "13                                                 lost\n",
              "14                           test test from the LG enV2\n",
              "Name: selected_text, dtype: object"
            ]
          },
          "metadata": {},
          "execution_count": 7
        }
      ]
    },
    {
      "cell_type": "code",
      "source": [
        "import string\n",
        "train[\"selected_text\"] = train[\"selected_text\"].apply(lambda wrd:[ltrs.lower() for ltrs in wrd if ltrs not in string.punctuation])"
      ],
      "metadata": {
        "id": "DThkgg5K5F7m"
      },
      "execution_count": 8,
      "outputs": []
    },
    {
      "cell_type": "code",
      "source": [
        "train[\"selected_text\"] = train[\"selected_text\"].apply(lambda wrd: ''.join(wrd))"
      ],
      "metadata": {
        "id": "cFXVK9KA5JW7"
      },
      "execution_count": 9,
      "outputs": []
    },
    {
      "cell_type": "code",
      "source": [
        "train[\"selected_text\"]"
      ],
      "metadata": {
        "colab": {
          "base_uri": "https://localhost:8080/"
        },
        "id": "QtkYrm395Lx8",
        "outputId": "36f94c8c-28eb-4d2a-e82f-491804df5c92"
      },
      "execution_count": 10,
      "outputs": [
        {
          "output_type": "execute_result",
          "data": {
            "text/plain": [
              "0                        id have responded if i were going\n",
              "1                                                 sooo sad\n",
              "2                                              bullying me\n",
              "3                                           leave me alone\n",
              "4                                                 sons of \n",
              "                               ...                        \n",
              "27476                                               d lost\n",
              "27477                                           dont force\n",
              "27478                             yay good for both of you\n",
              "27479                                 but it was worth it \n",
              "27480    all this flirting going on  the atg smiles yay...\n",
              "Name: selected_text, Length: 27481, dtype: object"
            ]
          },
          "metadata": {},
          "execution_count": 10
        }
      ]
    },
    {
      "cell_type": "code",
      "source": [
        "import nltk\n",
        "nltk.download('stopwords')"
      ],
      "metadata": {
        "colab": {
          "base_uri": "https://localhost:8080/"
        },
        "id": "gMcfN8AM5ncE",
        "outputId": "d016c367-f10e-4078-93b3-dfd393c5d887"
      },
      "execution_count": 11,
      "outputs": [
        {
          "output_type": "stream",
          "name": "stderr",
          "text": [
            "[nltk_data] Downloading package stopwords to /root/nltk_data...\n",
            "[nltk_data]   Unzipping corpora/stopwords.zip.\n"
          ]
        },
        {
          "output_type": "execute_result",
          "data": {
            "text/plain": [
              "True"
            ]
          },
          "metadata": {},
          "execution_count": 11
        }
      ]
    },
    {
      "cell_type": "code",
      "source": [
        "from nltk.corpus import stopwords"
      ],
      "metadata": {
        "id": "Rwuxj9Yj5Ov8"
      },
      "execution_count": 12,
      "outputs": []
    },
    {
      "cell_type": "code",
      "source": [
        "train[\"selected_text\"][:50] = train[\"selected_text\"][:50].apply(lambda x: ' '.join([word for word in x.split() if word not in stopwords.words(\"english\")]))"
      ],
      "metadata": {
        "id": "Pv3SPlHu5WZV"
      },
      "execution_count": 13,
      "outputs": []
    },
    {
      "cell_type": "code",
      "source": [
        "train[\"selected_text\"]"
      ],
      "metadata": {
        "colab": {
          "base_uri": "https://localhost:8080/"
        },
        "id": "bk5mQl2Y5ycB",
        "outputId": "b3944c54-6726-4b83-f8bb-a6383ff652ab"
      },
      "execution_count": 14,
      "outputs": [
        {
          "output_type": "execute_result",
          "data": {
            "text/plain": [
              "0                                       id responded going\n",
              "1                                                 sooo sad\n",
              "2                                                 bullying\n",
              "3                                              leave alone\n",
              "4                                                     sons\n",
              "                               ...                        \n",
              "27476                                               d lost\n",
              "27477                                           dont force\n",
              "27478                             yay good for both of you\n",
              "27479                                 but it was worth it \n",
              "27480    all this flirting going on  the atg smiles yay...\n",
              "Name: selected_text, Length: 27481, dtype: object"
            ]
          },
          "metadata": {},
          "execution_count": 14
        }
      ]
    },
    {
      "cell_type": "code",
      "source": [
        "import gensim\n",
        "def sent_to_words(sentences):\n",
        "    for sentence in sentences:\n",
        "        yield(gensim.utils.simple_preprocess(str(sentence),     deacc=True))"
      ],
      "metadata": {
        "id": "13J9w0NT51yX"
      },
      "execution_count": 15,
      "outputs": []
    },
    {
      "cell_type": "code",
      "source": [
        "from nltk.tokenize.treebank import TreebankWordDetokenizer\n",
        "def detokenize(text):\n",
        "    return TreebankWordDetokenizer().detokenize(text)"
      ],
      "metadata": {
        "id": "cWErXtKB59Fx"
      },
      "execution_count": 16,
      "outputs": []
    },
    {
      "cell_type": "code",
      "source": [
        "temp = []\n",
        "data_to_list = train['selected_text'].values.tolist()\n",
        "for i in range(len(data_to_list)):\n",
        "    temp.append(data_to_list[i])\n",
        "data_wordslem = list(sent_to_words(temp))"
      ],
      "metadata": {
        "id": "y1JTccT-5-xd"
      },
      "execution_count": 17,
      "outputs": []
    },
    {
      "cell_type": "code",
      "source": [
        "import nltk\n",
        "lemmatizer = nltk.stem.WordNetLemmatizer()"
      ],
      "metadata": {
        "id": "-AlJWVWH6D9l"
      },
      "execution_count": 18,
      "outputs": []
    },
    {
      "cell_type": "code",
      "source": [
        "nltk.download('omw-1.4')\n",
        "nltk.download('wordnet')"
      ],
      "metadata": {
        "colab": {
          "base_uri": "https://localhost:8080/"
        },
        "id": "4TuU0S6l6Gn8",
        "outputId": "d32896ea-f17f-4cee-e7a5-2aa34d490ab9"
      },
      "execution_count": 19,
      "outputs": [
        {
          "output_type": "stream",
          "name": "stderr",
          "text": [
            "[nltk_data] Downloading package omw-1.4 to /root/nltk_data...\n",
            "[nltk_data] Downloading package wordnet to /root/nltk_data...\n"
          ]
        },
        {
          "output_type": "execute_result",
          "data": {
            "text/plain": [
              "True"
            ]
          },
          "metadata": {},
          "execution_count": 19
        }
      ]
    },
    {
      "cell_type": "code",
      "source": [
        "for i in range(len(data_wordslem)):\n",
        "    for j in range(len(data_wordslem[i])):\n",
        "        data_wordslem[i][j] = lemmatizer.lemmatize(data_wordslem[i][j],pos=\"v\")"
      ],
      "metadata": {
        "id": "uS5aN3RS6KPB"
      },
      "execution_count": 20,
      "outputs": []
    },
    {
      "cell_type": "code",
      "source": [
        "data = []\n",
        "for i in range(len(data_wordslem)):\n",
        "    data.append(detokenize(data_wordslem[i]))\n",
        "print(data[:5])"
      ],
      "metadata": {
        "colab": {
          "base_uri": "https://localhost:8080/"
        },
        "id": "GMh-VODaGdLs",
        "outputId": "6332e650-197b-4232-8c47-e977345014bc"
      },
      "execution_count": 21,
      "outputs": [
        {
          "output_type": "stream",
          "name": "stdout",
          "text": [
            "['id respond go', 'sooo sad', 'bully', 'leave alone', 'sons']\n"
          ]
        }
      ]
    },
    {
      "cell_type": "code",
      "source": [
        "import keras"
      ],
      "metadata": {
        "id": "SA1WBCWX7eyT"
      },
      "execution_count": 22,
      "outputs": []
    },
    {
      "cell_type": "code",
      "source": [
        "from keras.models import Sequential\n",
        "from keras.preprocessing import image as image_utils\n",
        "from keras.preprocessing.text import Tokenizer\n",
        "import pandas as pd\n",
        "from sklearn.model_selection import train_test_split"
      ],
      "metadata": {
        "id": "7jHSbtuz8lhk"
      },
      "execution_count": 23,
      "outputs": []
    },
    {
      "cell_type": "code",
      "source": [
        "from keras.utils import pad_sequences"
      ],
      "metadata": {
        "id": "Rw0n7w-_6egD"
      },
      "execution_count": 24,
      "outputs": []
    },
    {
      "cell_type": "code",
      "source": [
        "max_words = 5000\n",
        "max_len = 200\n",
        "\n",
        "tokenizer = Tokenizer(num_words=max_words)\n",
        "tokenizer.fit_on_texts(data)\n",
        "sequences = tokenizer.texts_to_sequences(data)\n",
        "tweets = pad_sequences(sequences, maxlen=max_len)\n",
        "print(tweets)"
      ],
      "metadata": {
        "colab": {
          "base_uri": "https://localhost:8080/"
        },
        "id": "fVA_Vm7u6h7m",
        "outputId": "92ed206e-4b26-4e3c-f353-dcfb34d8723e"
      },
      "execution_count": 25,
      "outputs": [
        {
          "output_type": "stream",
          "name": "stdout",
          "text": [
            "[[   0    0    0 ...  290 1026   15]\n",
            " [   0    0    0 ...    0  399   64]\n",
            " [   0    0    0 ...    0    0 3103]\n",
            " ...\n",
            " [   0    0    0 ...  379   12    5]\n",
            " [   0    0    0 ...    1  533    8]\n",
            " [   0    0    0 ...  548  196  398]]\n"
          ]
        }
      ]
    },
    {
      "cell_type": "code",
      "source": [
        "from keras.layers import Embedding\n",
        "embedding_layer = Embedding(1000, 64)"
      ],
      "metadata": {
        "id": "kk8l2b5uGThE"
      },
      "execution_count": 26,
      "outputs": []
    },
    {
      "cell_type": "code",
      "source": [
        "from keras.models import Sequential\n",
        "from keras import layers\n",
        "\n",
        "model2 = Sequential()\n",
        "model2.add(layers.Embedding(max_words, 40, input_length=max_len))\n",
        "model2.add(layers.Bidirectional(layers.LSTM(20,dropout=0.6)))\n",
        "model2.add(layers.Dense(3,activation='softmax'))"
      ],
      "metadata": {
        "id": "zroyqODdGoyO"
      },
      "execution_count": 27,
      "outputs": []
    },
    {
      "cell_type": "code",
      "source": [
        "model2.compile(optimizer='adam',loss='categorical_crossentropy', metrics=['accuracy'])"
      ],
      "metadata": {
        "id": "MKYF8xsPGsqB"
      },
      "execution_count": 28,
      "outputs": []
    },
    {
      "cell_type": "code",
      "source": [
        "import tensorflow as tf\n",
        "labels = np.array(train['sentiment'])\n",
        "y = []\n",
        "for i in range(len(labels)):\n",
        "    if labels[i] == 'neutral':\n",
        "        y.append(0)\n",
        "    if labels[i] == 'negative':\n",
        "        y.append(1)\n",
        "    if labels[i] == 'positive':\n",
        "        y.append(2)\n",
        "y = np.array(y)\n",
        "labels = tf.keras.utils.to_categorical(y, 3, dtype=\"float32\")\n",
        "del y"
      ],
      "metadata": {
        "id": "VYpw5ejNGvsv"
      },
      "execution_count": 29,
      "outputs": []
    },
    {
      "cell_type": "code",
      "source": [
        "history = model2.fit(x = tweets, y= labels, epochs=70,validation_split=0.2)"
      ],
      "metadata": {
        "colab": {
          "base_uri": "https://localhost:8080/"
        },
        "id": "-kAQOVK-G1u8",
        "outputId": "180e383f-9634-4938-ce0e-5798d0e99315"
      },
      "execution_count": null,
      "outputs": [
        {
          "output_type": "stream",
          "name": "stdout",
          "text": [
            "Epoch 1/70\n",
            "687/687 [==============================] - 120s 169ms/step - loss: 0.7122 - accuracy: 0.7001 - val_loss: 0.5302 - val_accuracy: 0.7944\n",
            "Epoch 2/70\n",
            "687/687 [==============================] - 128s 186ms/step - loss: 0.4721 - accuracy: 0.8205 - val_loss: 0.4556 - val_accuracy: 0.8292\n",
            "Epoch 3/70\n",
            "687/687 [==============================] - 104s 151ms/step - loss: 0.4031 - accuracy: 0.8491 - val_loss: 0.4369 - val_accuracy: 0.8399\n",
            "Epoch 4/70\n",
            "687/687 [==============================] - 92s 134ms/step - loss: 0.3664 - accuracy: 0.8651 - val_loss: 0.4404 - val_accuracy: 0.8346\n",
            "Epoch 5/70\n",
            "687/687 [==============================] - 91s 133ms/step - loss: 0.3424 - accuracy: 0.8738 - val_loss: 0.4363 - val_accuracy: 0.8414\n",
            "Epoch 6/70\n",
            "687/687 [==============================] - 92s 134ms/step - loss: 0.3242 - accuracy: 0.8790 - val_loss: 0.4464 - val_accuracy: 0.8334\n",
            "Epoch 7/70\n",
            "687/687 [==============================] - 96s 140ms/step - loss: 0.3095 - accuracy: 0.8855 - val_loss: 0.4448 - val_accuracy: 0.8359\n",
            "Epoch 8/70\n",
            "687/687 [==============================] - 91s 133ms/step - loss: 0.2960 - accuracy: 0.8907 - val_loss: 0.4514 - val_accuracy: 0.8388\n",
            "Epoch 9/70\n",
            "687/687 [==============================] - 95s 138ms/step - loss: 0.2862 - accuracy: 0.8953 - val_loss: 0.4611 - val_accuracy: 0.8395\n",
            "Epoch 10/70\n",
            "687/687 [==============================] - 91s 132ms/step - loss: 0.2795 - accuracy: 0.8985 - val_loss: 0.4668 - val_accuracy: 0.8321\n",
            "Epoch 11/70\n",
            "687/687 [==============================] - 92s 133ms/step - loss: 0.2730 - accuracy: 0.8990 - val_loss: 0.4633 - val_accuracy: 0.8337\n",
            "Epoch 12/70\n",
            "687/687 [==============================] - 91s 133ms/step - loss: 0.2680 - accuracy: 0.9023 - val_loss: 0.4641 - val_accuracy: 0.8368\n",
            "Epoch 13/70\n",
            "687/687 [==============================] - 91s 132ms/step - loss: 0.2582 - accuracy: 0.9042 - val_loss: 0.4769 - val_accuracy: 0.8334\n",
            "Epoch 14/70\n",
            "687/687 [==============================] - 92s 133ms/step - loss: 0.2562 - accuracy: 0.9044 - val_loss: 0.4842 - val_accuracy: 0.8365\n",
            "Epoch 15/70\n",
            "687/687 [==============================] - 96s 140ms/step - loss: 0.2507 - accuracy: 0.9072 - val_loss: 0.4931 - val_accuracy: 0.8332\n",
            "Epoch 16/70\n",
            "687/687 [==============================] - 91s 132ms/step - loss: 0.2409 - accuracy: 0.9103 - val_loss: 0.4891 - val_accuracy: 0.8354\n",
            "Epoch 17/70\n",
            "687/687 [==============================] - 93s 135ms/step - loss: 0.2397 - accuracy: 0.9119 - val_loss: 0.4894 - val_accuracy: 0.8355\n",
            "Epoch 18/70\n",
            "687/687 [==============================] - 94s 137ms/step - loss: 0.2368 - accuracy: 0.9129 - val_loss: 0.4991 - val_accuracy: 0.8292\n",
            "Epoch 19/70\n",
            "687/687 [==============================] - 92s 134ms/step - loss: 0.2267 - accuracy: 0.9157 - val_loss: 0.5128 - val_accuracy: 0.8295\n",
            "Epoch 20/70\n",
            "687/687 [==============================] - 93s 135ms/step - loss: 0.2255 - accuracy: 0.9153 - val_loss: 0.5177 - val_accuracy: 0.8315\n",
            "Epoch 21/70\n",
            "687/687 [==============================] - 91s 133ms/step - loss: 0.2211 - accuracy: 0.9162 - val_loss: 0.5257 - val_accuracy: 0.8305\n",
            "Epoch 22/70\n",
            "687/687 [==============================] - 92s 135ms/step - loss: 0.2178 - accuracy: 0.9187 - val_loss: 0.5241 - val_accuracy: 0.8352\n",
            "Epoch 23/70\n",
            "687/687 [==============================] - 93s 135ms/step - loss: 0.2137 - accuracy: 0.9204 - val_loss: 0.5347 - val_accuracy: 0.8306\n",
            "Epoch 24/70\n",
            "687/687 [==============================] - 91s 133ms/step - loss: 0.2110 - accuracy: 0.9229 - val_loss: 0.5371 - val_accuracy: 0.8275\n",
            "Epoch 25/70\n",
            "687/687 [==============================] - 91s 133ms/step - loss: 0.2059 - accuracy: 0.9238 - val_loss: 0.5505 - val_accuracy: 0.8310\n",
            "Epoch 26/70\n",
            "687/687 [==============================] - 97s 141ms/step - loss: 0.2076 - accuracy: 0.9231 - val_loss: 0.5378 - val_accuracy: 0.8315\n",
            "Epoch 27/70\n",
            "687/687 [==============================] - 91s 133ms/step - loss: 0.2019 - accuracy: 0.9248 - val_loss: 0.5520 - val_accuracy: 0.8350\n",
            "Epoch 28/70\n",
            "687/687 [==============================] - 92s 133ms/step - loss: 0.1992 - accuracy: 0.9254 - val_loss: 0.5509 - val_accuracy: 0.8328\n",
            "Epoch 29/70\n",
            "687/687 [==============================] - 92s 134ms/step - loss: 0.1983 - accuracy: 0.9256 - val_loss: 0.5565 - val_accuracy: 0.8363\n",
            "Epoch 30/70\n",
            "687/687 [==============================] - 92s 135ms/step - loss: 0.1983 - accuracy: 0.9270 - val_loss: 0.5643 - val_accuracy: 0.8319\n",
            "Epoch 31/70\n",
            "687/687 [==============================] - 92s 135ms/step - loss: 0.1925 - accuracy: 0.9284 - val_loss: 0.5780 - val_accuracy: 0.8281\n",
            "Epoch 32/70\n",
            "687/687 [==============================] - 93s 135ms/step - loss: 0.1882 - accuracy: 0.9285 - val_loss: 0.5733 - val_accuracy: 0.8297\n",
            "Epoch 33/70\n",
            "687/687 [==============================] - 91s 133ms/step - loss: 0.1910 - accuracy: 0.9294 - val_loss: 0.5769 - val_accuracy: 0.8337\n",
            "Epoch 34/70\n",
            "687/687 [==============================] - 92s 134ms/step - loss: 0.1888 - accuracy: 0.9310 - val_loss: 0.5918 - val_accuracy: 0.8294\n",
            "Epoch 35/70\n",
            "687/687 [==============================] - 93s 135ms/step - loss: 0.1833 - accuracy: 0.9309 - val_loss: 0.5953 - val_accuracy: 0.8301\n",
            "Epoch 36/70\n",
            "687/687 [==============================] - 95s 138ms/step - loss: 0.1853 - accuracy: 0.9307 - val_loss: 0.5956 - val_accuracy: 0.8286\n",
            "Epoch 37/70\n",
            "687/687 [==============================] - 96s 140ms/step - loss: 0.1833 - accuracy: 0.9324 - val_loss: 0.5951 - val_accuracy: 0.8355\n",
            "Epoch 38/70\n",
            "687/687 [==============================] - 98s 143ms/step - loss: 0.1788 - accuracy: 0.9363 - val_loss: 0.6087 - val_accuracy: 0.8297\n",
            "Epoch 39/70\n",
            "687/687 [==============================] - 96s 140ms/step - loss: 0.1810 - accuracy: 0.9337 - val_loss: 0.6060 - val_accuracy: 0.8354\n",
            "Epoch 40/70\n",
            "687/687 [==============================] - 101s 147ms/step - loss: 0.1801 - accuracy: 0.9324 - val_loss: 0.6029 - val_accuracy: 0.8288\n",
            "Epoch 41/70\n",
            "687/687 [==============================] - 92s 134ms/step - loss: 0.1741 - accuracy: 0.9346 - val_loss: 0.6292 - val_accuracy: 0.8308\n",
            "Epoch 42/70\n",
            "687/687 [==============================] - 93s 135ms/step - loss: 0.1708 - accuracy: 0.9367 - val_loss: 0.6264 - val_accuracy: 0.8301\n",
            "Epoch 43/70\n",
            "687/687 [==============================] - 92s 134ms/step - loss: 0.1736 - accuracy: 0.9360 - val_loss: 0.6285 - val_accuracy: 0.8292\n",
            "Epoch 44/70\n",
            "687/687 [==============================] - 91s 133ms/step - loss: 0.1711 - accuracy: 0.9358 - val_loss: 0.6434 - val_accuracy: 0.8323\n",
            "Epoch 45/70\n",
            "687/687 [==============================] - 92s 134ms/step - loss: 0.1668 - accuracy: 0.9387 - val_loss: 0.6505 - val_accuracy: 0.8303\n",
            "Epoch 46/70\n",
            "687/687 [==============================] - 93s 135ms/step - loss: 0.1683 - accuracy: 0.9385 - val_loss: 0.6438 - val_accuracy: 0.8310\n",
            "Epoch 47/70\n",
            "687/687 [==============================] - 93s 135ms/step - loss: 0.1680 - accuracy: 0.9376 - val_loss: 0.6481 - val_accuracy: 0.8301\n",
            "Epoch 48/70\n",
            "687/687 [==============================] - 96s 139ms/step - loss: 0.1684 - accuracy: 0.9373 - val_loss: 0.6407 - val_accuracy: 0.8303\n",
            "Epoch 49/70\n",
            "687/687 [==============================] - 93s 135ms/step - loss: 0.1675 - accuracy: 0.9372 - val_loss: 0.6458 - val_accuracy: 0.8312\n",
            "Epoch 50/70\n",
            "687/687 [==============================] - 91s 133ms/step - loss: 0.1660 - accuracy: 0.9380 - val_loss: 0.6489 - val_accuracy: 0.8308\n",
            "Epoch 51/70\n",
            "687/687 [==============================] - 93s 135ms/step - loss: 0.1627 - accuracy: 0.9391 - val_loss: 0.6498 - val_accuracy: 0.8279\n",
            "Epoch 52/70\n",
            "687/687 [==============================] - 93s 136ms/step - loss: 0.1614 - accuracy: 0.9385 - val_loss: 0.6572 - val_accuracy: 0.8292\n",
            "Epoch 53/70\n",
            "687/687 [==============================] - 92s 134ms/step - loss: 0.1604 - accuracy: 0.9391 - val_loss: 0.6725 - val_accuracy: 0.8246\n",
            "Epoch 54/70\n",
            "687/687 [==============================] - 92s 134ms/step - loss: 0.1606 - accuracy: 0.9405 - val_loss: 0.6638 - val_accuracy: 0.8321\n",
            "Epoch 55/70\n",
            "687/687 [==============================] - 93s 135ms/step - loss: 0.1597 - accuracy: 0.9412 - val_loss: 0.6727 - val_accuracy: 0.8297\n",
            "Epoch 56/70\n",
            "687/687 [==============================] - 92s 134ms/step - loss: 0.1595 - accuracy: 0.9390 - val_loss: 0.6731 - val_accuracy: 0.8346\n",
            "Epoch 57/70\n",
            "687/687 [==============================] - 92s 133ms/step - loss: 0.1594 - accuracy: 0.9401 - val_loss: 0.6785 - val_accuracy: 0.8314\n",
            "Epoch 58/70\n",
            "687/687 [==============================] - 91s 132ms/step - loss: 0.1571 - accuracy: 0.9399 - val_loss: 0.6793 - val_accuracy: 0.8275\n",
            "Epoch 59/70\n",
            "687/687 [==============================] - 91s 133ms/step - loss: 0.1597 - accuracy: 0.9400 - val_loss: 0.6780 - val_accuracy: 0.8274\n",
            "Epoch 60/70\n",
            "687/687 [==============================] - 91s 133ms/step - loss: 0.1562 - accuracy: 0.9421 - val_loss: 0.6865 - val_accuracy: 0.8314\n",
            "Epoch 61/70\n",
            "687/687 [==============================] - 95s 139ms/step - loss: 0.1550 - accuracy: 0.9412 - val_loss: 0.6853 - val_accuracy: 0.8292\n",
            "Epoch 62/70\n",
            "687/687 [==============================] - 92s 134ms/step - loss: 0.1551 - accuracy: 0.9414 - val_loss: 0.6977 - val_accuracy: 0.8308\n",
            "Epoch 63/70\n",
            "687/687 [==============================] - 94s 137ms/step - loss: 0.1577 - accuracy: 0.9410 - val_loss: 0.6845 - val_accuracy: 0.8317\n",
            "Epoch 64/70\n",
            "687/687 [==============================] - 93s 135ms/step - loss: 0.1552 - accuracy: 0.9415 - val_loss: 0.7002 - val_accuracy: 0.8308\n",
            "Epoch 65/70\n",
            "687/687 [==============================] - 92s 133ms/step - loss: 0.1545 - accuracy: 0.9410 - val_loss: 0.6982 - val_accuracy: 0.8279\n",
            "Epoch 66/70\n",
            "687/687 [==============================] - 91s 133ms/step - loss: 0.1532 - accuracy: 0.9406 - val_loss: 0.6888 - val_accuracy: 0.8277\n",
            "Epoch 67/70\n",
            "687/687 [==============================] - 92s 134ms/step - loss: 0.1519 - accuracy: 0.9430 - val_loss: 0.6949 - val_accuracy: 0.8305\n",
            "Epoch 68/70\n",
            "687/687 [==============================] - 93s 136ms/step - loss: 0.1521 - accuracy: 0.9422 - val_loss: 0.6937 - val_accuracy: 0.8330\n",
            "Epoch 69/70\n",
            "687/687 [==============================] - 93s 136ms/step - loss: 0.1534 - accuracy: 0.9431 - val_loss: 0.7004 - val_accuracy: 0.8317\n",
            "Epoch 70/70\n",
            "687/687 [==============================] - 91s 133ms/step - loss: 0.1477 - accuracy: 0.9451 - val_loss: 0.7162 - val_accuracy: 0.8346\n"
          ]
        }
      ]
    },
    {
      "cell_type": "code",
      "source": [
        "import matplotlib.pyplot as plt"
      ],
      "metadata": {
        "id": "Fd3-9iA6HAbL"
      },
      "execution_count": 30,
      "outputs": []
    },
    {
      "cell_type": "code",
      "source": [
        "plt.plot(history.history['loss'])\n",
        "plt.plot(history.history['val_loss'])\n",
        "plt.title('Loss')\n",
        "plt.ylabel('loss')\n",
        "plt.xlabel('epoch')\n",
        "plt.legend(['train', 'validation'], loc='upper left')\n",
        "plt.show()"
      ],
      "metadata": {
        "colab": {
          "base_uri": "https://localhost:8080/",
          "height": 472
        },
        "id": "z-7mkm9rHDKf",
        "outputId": "208ea55e-eba6-4ed7-95a5-08af9cb3e944"
      },
      "execution_count": null,
      "outputs": [
        {
          "output_type": "display_data",
          "data": {
            "text/plain": [
              "<Figure size 640x480 with 1 Axes>"
            ],
            "image/png": "[encoded data removed]"
          },
          "metadata": {}
        }
      ]
    },
    {
      "cell_type": "code",
      "source": [
        "plt.plot(history.history['accuracy'])\n",
        "plt.plot(history.history['val_accuracy'])\n",
        "plt.title('Accuracy')\n",
        "plt.ylabel('Accuracy')\n",
        "plt.xlabel('epoch')\n",
        "plt.legend(['train', 'validation'], loc='upper left')\n",
        "plt.show()"
      ],
      "metadata": {
        "colab": {
          "base_uri": "https://localhost:8080/",
          "height": 472
        },
        "id": "UBDeeKMFHEfm",
        "outputId": "c4138fda-0f68-4829-c8b4-05653632755f"
      },
      "execution_count": null,
      "outputs": [
        {
          "output_type": "display_data",
          "data": {
            "text/plain": [
              "<Figure size 640x480 with 1 Axes>"
            ],
            "image/png": "[encoded data removed]"
          },
          "metadata": {}
        }
      ]
    },
    {
      "cell_type": "code",
      "source": [
        "sentiment = ['Neutral','Negative','Positive']"
      ],
      "metadata": {
        "id": "EZDhqQBGHI-e"
      },
      "execution_count": 31,
      "outputs": []
    },
    {
      "cell_type": "code",
      "source": [
        "sequence = tokenizer.texts_to_sequences(['this experience has been the worst, very bad product'])\n",
        "test = pad_sequences(sequence, maxlen=max_len)\n",
        "sentiment[np.around(model2.predict(test), decimals=0).argmax(axis=1)[0]]"
      ],
      "metadata": {
        "colab": {
          "base_uri": "https://localhost:8080/",
          "height": 53
        },
        "id": "2c_u6EKmHJuB",
        "outputId": "0793b20f-345d-4a60-95fd-d17169435987"
      },
      "execution_count": null,
      "outputs": [
        {
          "output_type": "stream",
          "name": "stdout",
          "text": [
            "1/1 [==============================] - 1s 1s/step\n"
          ]
        },
        {
          "output_type": "execute_result",
          "data": {
            "text/plain": [
              "'Negative'"
            ],
            "application/vnd.google.colaboratory.intrinsic+json": {
              "type": "string"
            }
          },
          "metadata": {},
          "execution_count": 59
        }
      ]
    },
    {
      "cell_type": "code",
      "source": [
        "sequence = tokenizer.texts_to_sequences(['i really love this internship'])\n",
        "test = pad_sequences(sequence, maxlen=max_len)\n",
        "sentiment[np.around(model2.predict(test), decimals=0).argmax(axis=1)[0]]"
      ],
      "metadata": {
        "colab": {
          "base_uri": "https://localhost:8080/",
          "height": 53
        },
        "id": "FpDCN1LeHMX9",
        "outputId": "1394d291-ca12-4780-d7fa-dde37068ba48"
      },
      "execution_count": null,
      "outputs": [
        {
          "output_type": "stream",
          "name": "stdout",
          "text": [
            "1/1 [==============================] - 0s 66ms/step\n"
          ]
        },
        {
          "output_type": "execute_result",
          "data": {
            "text/plain": [
              "'Positive'"
            ],
            "application/vnd.google.colaboratory.intrinsic+json": {
              "type": "string"
            }
          },
          "metadata": {},
          "execution_count": 60
        }
      ]
    },
    {
      "cell_type": "code",
      "source": [
        "sequence = tokenizer.texts_to_sequences(['i love sayabidevs'])\n",
        "test = pad_sequences(sequence, maxlen=max_len)\n",
        "sentiment[np.around(model2.predict(test), decimals=0).argmax(axis=1)[0]]"
      ],
      "metadata": {
        "colab": {
          "base_uri": "https://localhost:8080/",
          "height": 53
        },
        "id": "klVDRDdOHPnf",
        "outputId": "7389c483-282b-45ce-9131-5b1ad03b6b6a"
      },
      "execution_count": null,
      "outputs": [
        {
          "output_type": "stream",
          "name": "stdout",
          "text": [
            "1/1 [==============================] - 0s 38ms/step\n"
          ]
        },
        {
          "output_type": "execute_result",
          "data": {
            "text/plain": [
              "'Positive'"
            ],
            "application/vnd.google.colaboratory.intrinsic+json": {
              "type": "string"
            }
          },
          "metadata": {},
          "execution_count": 61
        }
      ]
    },
    {
      "cell_type": "code",
      "source": [
        "sequence = tokenizer.texts_to_sequences(['I go to gym daily'])\n",
        "test = pad_sequences(sequence, maxlen=max_len)\n",
        "sentiment[np.around(model2.predict(test), decimals=0).argmax(axis=1)[0]]"
      ],
      "metadata": {
        "colab": {
          "base_uri": "https://localhost:8080/",
          "height": 53
        },
        "id": "tuKi7inoHUb1",
        "outputId": "978484b6-92e5-4885-8e88-f2a5a40430c1"
      },
      "execution_count": null,
      "outputs": [
        {
          "output_type": "stream",
          "name": "stdout",
          "text": [
            "1/1 [==============================] - 0s 39ms/step\n"
          ]
        },
        {
          "output_type": "execute_result",
          "data": {
            "text/plain": [
              "'Neutral'"
            ],
            "application/vnd.google.colaboratory.intrinsic+json": {
              "type": "string"
            }
          },
          "metadata": {},
          "execution_count": 62
        }
      ]
    },
    {
      "cell_type": "markdown",
      "source": [
        "Regularisatuion"
      ],
      "metadata": {
        "id": "HhV8yxSaHb2i"
      }
    },
    {
      "cell_type": "code",
      "source": [
        "model = Sequential()\n",
        "model.add(layers.Embedding(max_words, 40, input_length=max_len))\n",
        "model.add(layers.BatchNormalization())\n",
        "model.add(layers.Bidirectional(layers.LSTM(15,dropout=0.6)))\n",
        "model.add(layers.Dense(3,activation='softmax'))"
      ],
      "metadata": {
        "id": "0iHgnEJOHgde"
      },
      "execution_count": 32,
      "outputs": []
    },
    {
      "cell_type": "code",
      "source": [
        "model.compile(optimizer='rmsprop',loss='categorical_crossentropy', metrics=['accuracy'])"
      ],
      "metadata": {
        "id": "TNaSy-OFHlH9"
      },
      "execution_count": 33,
      "outputs": []
    },
    {
      "cell_type": "code",
      "source": [
        "history2 = model.fit(x = tweets, y= labels, epochs=50,validation_split=0.2)"
      ],
      "metadata": {
        "colab": {
          "base_uri": "https://localhost:8080/"
        },
        "id": "xUxcvx-yHn3o",
        "outputId": "c6c98d3e-6de6-4334-e342-970f40cfe764"
      },
      "execution_count": 34,
      "outputs": [
        {
          "output_type": "stream",
          "name": "stdout",
          "text": [
            "Epoch 1/50\n",
            "687/687 [==============================] - 107s 146ms/step - loss: 0.7299 - accuracy: 0.6891 - val_loss: 0.5647 - val_accuracy: 0.7706\n",
            "Epoch 2/50\n",
            "687/687 [==============================] - 96s 140ms/step - loss: 0.5387 - accuracy: 0.7881 - val_loss: 0.5294 - val_accuracy: 0.7850\n",
            "Epoch 3/50\n",
            "687/687 [==============================] - 98s 143ms/step - loss: 0.4830 - accuracy: 0.8143 - val_loss: 0.6006 - val_accuracy: 0.7855\n",
            "Epoch 4/50\n",
            "687/687 [==============================] - 90s 132ms/step - loss: 0.4550 - accuracy: 0.8287 - val_loss: 0.4618 - val_accuracy: 0.8259\n",
            "Epoch 5/50\n",
            "687/687 [==============================] - 91s 132ms/step - loss: 0.4337 - accuracy: 0.8355 - val_loss: 0.8520 - val_accuracy: 0.7198\n",
            "Epoch 6/50\n",
            "687/687 [==============================] - 92s 134ms/step - loss: 0.4228 - accuracy: 0.8421 - val_loss: 0.4467 - val_accuracy: 0.8328\n",
            "Epoch 7/50\n",
            "687/687 [==============================] - 90s 132ms/step - loss: 0.4108 - accuracy: 0.8480 - val_loss: 0.4445 - val_accuracy: 0.8379\n",
            "Epoch 8/50\n",
            "687/687 [==============================] - 95s 138ms/step - loss: 0.4019 - accuracy: 0.8518 - val_loss: 0.4675 - val_accuracy: 0.8261\n",
            "Epoch 9/50\n",
            "687/687 [==============================] - 98s 142ms/step - loss: 0.3934 - accuracy: 0.8540 - val_loss: 0.4332 - val_accuracy: 0.8441\n",
            "Epoch 10/50\n",
            "687/687 [==============================] - 90s 132ms/step - loss: 0.3809 - accuracy: 0.8591 - val_loss: 0.4352 - val_accuracy: 0.8401\n",
            "Epoch 11/50\n",
            "687/687 [==============================] - 91s 133ms/step - loss: 0.3787 - accuracy: 0.8588 - val_loss: 0.4290 - val_accuracy: 0.8414\n",
            "Epoch 12/50\n",
            "687/687 [==============================] - 90s 131ms/step - loss: 0.3726 - accuracy: 0.8613 - val_loss: 0.4310 - val_accuracy: 0.8432\n",
            "Epoch 13/50\n",
            "687/687 [==============================] - 91s 132ms/step - loss: 0.3659 - accuracy: 0.8649 - val_loss: 0.4401 - val_accuracy: 0.8379\n",
            "Epoch 14/50\n",
            "687/687 [==============================] - 95s 138ms/step - loss: 0.3651 - accuracy: 0.8654 - val_loss: 0.4308 - val_accuracy: 0.8406\n",
            "Epoch 15/50\n",
            "687/687 [==============================] - 91s 132ms/step - loss: 0.3570 - accuracy: 0.8694 - val_loss: 0.4354 - val_accuracy: 0.8423\n",
            "Epoch 16/50\n",
            "687/687 [==============================] - 91s 133ms/step - loss: 0.3524 - accuracy: 0.8706 - val_loss: 0.4223 - val_accuracy: 0.8461\n",
            "Epoch 17/50\n",
            "687/687 [==============================] - 90s 131ms/step - loss: 0.3492 - accuracy: 0.8723 - val_loss: 0.4248 - val_accuracy: 0.8428\n",
            "Epoch 18/50\n",
            "687/687 [==============================] - 90s 131ms/step - loss: 0.3434 - accuracy: 0.8765 - val_loss: 0.5863 - val_accuracy: 0.7799\n",
            "Epoch 19/50\n",
            "687/687 [==============================] - 89s 130ms/step - loss: 0.3432 - accuracy: 0.8746 - val_loss: 0.4351 - val_accuracy: 0.8414\n",
            "Epoch 20/50\n",
            "687/687 [==============================] - 90s 131ms/step - loss: 0.3372 - accuracy: 0.8754 - val_loss: 0.5787 - val_accuracy: 0.7833\n",
            "Epoch 21/50\n",
            "687/687 [==============================] - 90s 131ms/step - loss: 0.3391 - accuracy: 0.8764 - val_loss: 0.4220 - val_accuracy: 0.8437\n",
            "Epoch 22/50\n",
            "687/687 [==============================] - 91s 132ms/step - loss: 0.3341 - accuracy: 0.8786 - val_loss: 0.4324 - val_accuracy: 0.8332\n",
            "Epoch 23/50\n",
            "687/687 [==============================] - 91s 133ms/step - loss: 0.3313 - accuracy: 0.8805 - val_loss: 0.7642 - val_accuracy: 0.6951\n",
            "Epoch 24/50\n",
            "687/687 [==============================] - 95s 138ms/step - loss: 0.3282 - accuracy: 0.8809 - val_loss: 0.4543 - val_accuracy: 0.8252\n",
            "Epoch 25/50\n",
            "687/687 [==============================] - 90s 130ms/step - loss: 0.3260 - accuracy: 0.8810 - val_loss: 0.9389 - val_accuracy: 0.5978\n",
            "Epoch 26/50\n",
            "687/687 [==============================] - 91s 133ms/step - loss: 0.3242 - accuracy: 0.8830 - val_loss: 0.8468 - val_accuracy: 0.6498\n",
            "Epoch 27/50\n",
            "687/687 [==============================] - 85s 124ms/step - loss: 0.3219 - accuracy: 0.8814 - val_loss: 0.4460 - val_accuracy: 0.8292\n",
            "Epoch 28/50\n",
            "687/687 [==============================] - 84s 123ms/step - loss: 0.3215 - accuracy: 0.8832 - val_loss: 0.4280 - val_accuracy: 0.8457\n",
            "Epoch 29/50\n",
            "687/687 [==============================] - 85s 124ms/step - loss: 0.3170 - accuracy: 0.8848 - val_loss: 0.4310 - val_accuracy: 0.8443\n",
            "Epoch 30/50\n",
            "687/687 [==============================] - 85s 123ms/step - loss: 0.3156 - accuracy: 0.8849 - val_loss: 0.4207 - val_accuracy: 0.8436\n",
            "Epoch 31/50\n",
            "687/687 [==============================] - 85s 123ms/step - loss: 0.3145 - accuracy: 0.8848 - val_loss: 0.4203 - val_accuracy: 0.8432\n",
            "Epoch 32/50\n",
            "687/687 [==============================] - 85s 124ms/step - loss: 0.3082 - accuracy: 0.8881 - val_loss: 0.4309 - val_accuracy: 0.8439\n",
            "Epoch 33/50\n",
            "687/687 [==============================] - 85s 124ms/step - loss: 0.3073 - accuracy: 0.8892 - val_loss: 0.4324 - val_accuracy: 0.8434\n",
            "Epoch 34/50\n",
            "687/687 [==============================] - 85s 124ms/step - loss: 0.3070 - accuracy: 0.8901 - val_loss: 0.4281 - val_accuracy: 0.8452\n",
            "Epoch 35/50\n",
            "687/687 [==============================] - 85s 124ms/step - loss: 0.3042 - accuracy: 0.8897 - val_loss: 0.4294 - val_accuracy: 0.8430\n",
            "Epoch 36/50\n",
            "687/687 [==============================] - 85s 123ms/step - loss: 0.3067 - accuracy: 0.8876 - val_loss: 0.4329 - val_accuracy: 0.8408\n",
            "Epoch 37/50\n",
            "687/687 [==============================] - 85s 124ms/step - loss: 0.3037 - accuracy: 0.8899 - val_loss: 0.4519 - val_accuracy: 0.8363\n",
            "Epoch 38/50\n",
            "687/687 [==============================] - 85s 124ms/step - loss: 0.3046 - accuracy: 0.8891 - val_loss: 0.4325 - val_accuracy: 0.8415\n",
            "Epoch 39/50\n",
            "687/687 [==============================] - 85s 124ms/step - loss: 0.3020 - accuracy: 0.8911 - val_loss: 0.4309 - val_accuracy: 0.8417\n",
            "Epoch 40/50\n",
            "687/687 [==============================] - 85s 124ms/step - loss: 0.3028 - accuracy: 0.8901 - val_loss: 0.4401 - val_accuracy: 0.8312\n",
            "Epoch 41/50\n",
            "687/687 [==============================] - 85s 124ms/step - loss: 0.3016 - accuracy: 0.8904 - val_loss: 0.4439 - val_accuracy: 0.8370\n",
            "Epoch 42/50\n",
            "687/687 [==============================] - 84s 123ms/step - loss: 0.2997 - accuracy: 0.8915 - val_loss: 1.8663 - val_accuracy: 0.4806\n",
            "Epoch 43/50\n",
            "687/687 [==============================] - 85s 123ms/step - loss: 0.2982 - accuracy: 0.8930 - val_loss: 0.4383 - val_accuracy: 0.8414\n",
            "Epoch 44/50\n",
            "687/687 [==============================] - 85s 124ms/step - loss: 0.2976 - accuracy: 0.8939 - val_loss: 0.4290 - val_accuracy: 0.8465\n",
            "Epoch 45/50\n",
            "687/687 [==============================] - 91s 133ms/step - loss: 0.2953 - accuracy: 0.8950 - val_loss: 0.4359 - val_accuracy: 0.8432\n",
            "Epoch 46/50\n",
            "687/687 [==============================] - 88s 128ms/step - loss: 0.2999 - accuracy: 0.8923 - val_loss: 0.9320 - val_accuracy: 0.5727\n",
            "Epoch 47/50\n",
            "687/687 [==============================] - 88s 128ms/step - loss: 0.2942 - accuracy: 0.8969 - val_loss: 0.4405 - val_accuracy: 0.8446\n",
            "Epoch 48/50\n",
            "687/687 [==============================] - 93s 135ms/step - loss: 0.2940 - accuracy: 0.8927 - val_loss: 0.4414 - val_accuracy: 0.8405\n",
            "Epoch 49/50\n",
            "687/687 [==============================] - 88s 128ms/step - loss: 0.2923 - accuracy: 0.8958 - val_loss: 0.4444 - val_accuracy: 0.8419\n",
            "Epoch 50/50\n",
            "687/687 [==============================] - 94s 136ms/step - loss: 0.2926 - accuracy: 0.8943 - val_loss: 0.4430 - val_accuracy: 0.8421\n"
          ]
        }
      ]
    },
    {
      "cell_type": "code",
      "source": [
        "plt.plot(history2.history['loss'])\n",
        "plt.plot(history2.history['val_loss'])\n",
        "plt.title('Loss')\n",
        "plt.ylabel('loss')\n",
        "plt.xlabel('epoch')\n",
        "plt.legend(['train', 'validation'], loc='upper left')\n",
        "plt.show()"
      ],
      "metadata": {
        "id": "gZlfPKAgHqRC",
        "colab": {
          "base_uri": "https://localhost:8080/",
          "height": 472
        },
        "outputId": "bb5163e7-4d2c-4f42-a7c8-e02af953aa7a"
      },
      "execution_count": 35,
      "outputs": [
        {
          "output_type": "display_data",
          "data": {
            "text/plain": [
              "<Figure size 640x480 with 1 Axes>"
            ],
            "image/png": "[encoded data removed]"
          },
          "metadata": {}
        }
      ]
    },
    {
      "cell_type": "code",
      "source": [
        "plt.plot(history2.history['accuracy'])\n",
        "plt.plot(history2.history['val_accuracy'])\n",
        "plt.title('Accuracy')\n",
        "plt.ylabel('Accuracy')\n",
        "plt.xlabel('epoch')\n",
        "plt.legend(['train', 'validation'], loc='upper left')\n",
        "plt.show()"
      ],
      "metadata": {
        "id": "R6ziB0TeHvG_",
        "colab": {
          "base_uri": "https://localhost:8080/",
          "height": 472
        },
        "outputId": "cf8e805a-e4b0-4076-8439-912a74723bcb"
      },
      "execution_count": 36,
      "outputs": [
        {
          "output_type": "display_data",
          "data": {
            "text/plain": [
              "<Figure size 640x480 with 1 Axes>"
            ],
            "image/png": "[encoded data removed]"
          },
          "metadata": {}
        }
      ]
    },
    {
      "cell_type": "code",
      "source": [
        "sequence = tokenizer.texts_to_sequences(['i like this product'])\n",
        "test = pad_sequences(sequence, maxlen=max_len)\n",
        "sentiment[np.around(model.predict(test), decimals=0).argmax(axis=1)[0]]"
      ],
      "metadata": {
        "id": "6Z6GPj9-Hyb1",
        "colab": {
          "base_uri": "https://localhost:8080/",
          "height": 53
        },
        "outputId": "5a0c067f-c885-408c-de08-e5e75e002513"
      },
      "execution_count": 37,
      "outputs": [
        {
          "output_type": "stream",
          "name": "stdout",
          "text": [
            "1/1 [==============================] - 1s 1s/step\n"
          ]
        },
        {
          "output_type": "execute_result",
          "data": {
            "text/plain": [
              "'Positive'"
            ],
            "application/vnd.google.colaboratory.intrinsic+json": {
              "type": "string"
            }
          },
          "metadata": {},
          "execution_count": 37
        }
      ]
    },
    {
      "cell_type": "code",
      "source": [
        "sequence = tokenizer.texts_to_sequences(['i dont like this product'])\n",
        "test = pad_sequences(sequence, maxlen=max_len)\n",
        "sentiment[np.around(model.predict(test), decimals=0).argmax(axis=1)[0]]"
      ],
      "metadata": {
        "id": "jwiWFFPvH1Vj",
        "colab": {
          "base_uri": "https://localhost:8080/",
          "height": 53
        },
        "outputId": "9535aa0b-1044-4469-d097-7b7a712ffc33"
      },
      "execution_count": 38,
      "outputs": [
        {
          "output_type": "stream",
          "name": "stdout",
          "text": [
            "1/1 [==============================] - 0s 60ms/step\n"
          ]
        },
        {
          "output_type": "execute_result",
          "data": {
            "text/plain": [
              "'Negative'"
            ],
            "application/vnd.google.colaboratory.intrinsic+json": {
              "type": "string"
            }
          },
          "metadata": {},
          "execution_count": 38
        }
      ]
    },
    {
      "cell_type": "code",
      "source": [
        "sequence = tokenizer.texts_to_sequences(['this is a random sentence'])\n",
        "test = pad_sequences(sequence, maxlen=max_len)\n",
        "sentiment[np.around(model.predict(test), decimals=0).argmax(axis=1)[0]]"
      ],
      "metadata": {
        "id": "sidKUeXrH3T7",
        "colab": {
          "base_uri": "https://localhost:8080/",
          "height": 53
        },
        "outputId": "d9b3602e-9cb5-45f4-cbe3-c3cbdb471012"
      },
      "execution_count": 39,
      "outputs": [
        {
          "output_type": "stream",
          "name": "stdout",
          "text": [
            "1/1 [==============================] - 0s 67ms/step\n"
          ]
        },
        {
          "output_type": "execute_result",
          "data": {
            "text/plain": [
              "'Neutral'"
            ],
            "application/vnd.google.colaboratory.intrinsic+json": {
              "type": "string"
            }
          },
          "metadata": {},
          "execution_count": 39
        }
      ]
    }
  ]
}